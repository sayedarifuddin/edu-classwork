{
  "nbformat": 4,
  "nbformat_minor": 0,
  "metadata": {
    "colab": {
      "name": "DDA.ipynb",
      "provenance": []
    },
    "kernelspec": {
      "name": "python3",
      "display_name": "Python 3"
    },
    "language_info": {
      "name": "python"
    }
  },
  "cells": [
    {
      "cell_type": "code",
      "metadata": {
        "colab": {
          "base_uri": "https://localhost:8080/",
          "height": 1000
        },
        "id": "zPQaCNm0So1I",
        "outputId": "e4bd8209-7552-48b1-d08b-b2512ca19a0b"
      },
      "source": [
        "import matplotlib.pyplot as plt\n",
        "\n",
        "print(\"Enter the value of x1: \")\n",
        "x1 = int(input())\n",
        "print(\"Enter the value of x2: \")\n",
        "x2 = int(input())\n",
        "print(\"Enter the value of y1: \")\n",
        "y1 = int(input())\n",
        "print(\"Enter the value of y2: \")\n",
        "y2 = int(input())\n",
        "\n",
        "dx = x2 - x1\n",
        "dy = y2 - y1\n",
        "\n",
        "if abs(dx) > abs(dy):\n",
        "    steps = abs(dx)\n",
        "else:\n",
        "    steps = abs(dy)\n",
        "\n",
        "xincrement = dx/steps\n",
        "yincrement = dy/steps\n",
        "\n",
        "i = 0\n",
        "\n",
        "xcoordinates = []\n",
        "ycoordinates = []\n",
        "\n",
        "while i < steps:\n",
        "    i += 1\n",
        "    x1 = x1 + xincrement\n",
        "    y1 = y1 + yincrement\n",
        "    print(\"X1: \", x1, \"Y1: \", y1)\n",
        "    xcoordinates.append(x1)\n",
        "    ycoordinates.append(y1)\n",
        "\n",
        "\n",
        "plt.plot(xcoordinates, ycoordinates)\n",
        "# naming the axis\n",
        "plt.xlabel('X-Axis')\n",
        "plt.ylabel('Y-Axis')\n",
        "\n",
        "# Graph title\n",
        "plt.title(\"DDA Algorithm\")\n",
        "# Show the plot\n",
        "plt.show()"
      ],
      "execution_count": null,
      "outputs": [
        {
          "output_type": "stream",
          "name": "stdout",
          "text": [
            "Enter the value of x1: \n",
            "20\n",
            "Enter the value of x2: \n",
            "60\n",
            "Enter the value of y1: \n",
            "20\n",
            "Enter the value of y2: \n",
            "60\n",
            "X1:  21.0 Y1:  21.0\n",
            "X1:  22.0 Y1:  22.0\n",
            "X1:  23.0 Y1:  23.0\n",
            "X1:  24.0 Y1:  24.0\n",
            "X1:  25.0 Y1:  25.0\n",
            "X1:  26.0 Y1:  26.0\n",
            "X1:  27.0 Y1:  27.0\n",
            "X1:  28.0 Y1:  28.0\n",
            "X1:  29.0 Y1:  29.0\n",
            "X1:  30.0 Y1:  30.0\n",
            "X1:  31.0 Y1:  31.0\n",
            "X1:  32.0 Y1:  32.0\n",
            "X1:  33.0 Y1:  33.0\n",
            "X1:  34.0 Y1:  34.0\n",
            "X1:  35.0 Y1:  35.0\n",
            "X1:  36.0 Y1:  36.0\n",
            "X1:  37.0 Y1:  37.0\n",
            "X1:  38.0 Y1:  38.0\n",
            "X1:  39.0 Y1:  39.0\n",
            "X1:  40.0 Y1:  40.0\n",
            "X1:  41.0 Y1:  41.0\n",
            "X1:  42.0 Y1:  42.0\n",
            "X1:  43.0 Y1:  43.0\n",
            "X1:  44.0 Y1:  44.0\n",
            "X1:  45.0 Y1:  45.0\n",
            "X1:  46.0 Y1:  46.0\n",
            "X1:  47.0 Y1:  47.0\n",
            "X1:  48.0 Y1:  48.0\n",
            "X1:  49.0 Y1:  49.0\n",
            "X1:  50.0 Y1:  50.0\n",
            "X1:  51.0 Y1:  51.0\n",
            "X1:  52.0 Y1:  52.0\n",
            "X1:  53.0 Y1:  53.0\n",
            "X1:  54.0 Y1:  54.0\n",
            "X1:  55.0 Y1:  55.0\n",
            "X1:  56.0 Y1:  56.0\n",
            "X1:  57.0 Y1:  57.0\n",
            "X1:  58.0 Y1:  58.0\n",
            "X1:  59.0 Y1:  59.0\n",
            "X1:  60.0 Y1:  60.0\n"
          ]
        },
        {
          "output_type": "display_data",
          "data": {
            "image/png": "[encoded data removed]",
            "text/plain": [
              "<Figure size 432x288 with 1 Axes>"
            ]
          },
          "metadata": {
            "needs_background": "light"
          }
        }
      ]
    }
  ]
}