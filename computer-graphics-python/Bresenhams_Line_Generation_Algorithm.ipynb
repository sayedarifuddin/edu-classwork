{
  "nbformat": 4,
  "nbformat_minor": 0,
  "metadata": {
    "colab": {
      "name": "Bresenham.ipynb",
      "provenance": []
    },
    "kernelspec": {
      "name": "python3",
      "display_name": "Python 3"
    },
    "language_info": {
      "name": "python"
    }
  },
  "cells": [
    {
      "cell_type": "code",
      "metadata": {
        "colab": {
          "base_uri": "https://localhost:8080/",
          "height": 1000
        },
        "id": "8hLSzmkfUdqB",
        "outputId": "30ac0a01-918d-4ed2-a9a3-d5b90c692ff8"
      },
      "source": [
        "import matplotlib.pyplot as plt\n",
        "plt.title(\"Bresenham Algorithm\")\n",
        "plt.xlabel(\"X Axis\")\n",
        "plt.ylabel(\"Y Axis\")\n",
        "\n",
        "\n",
        "def bres(x1, y1, x2, y2):\n",
        "    x, y = x1, y1\n",
        "    dx = abs(x2 - x1)\n",
        "    dy = abs(y2 - y1)\n",
        "    gradient = dy/float(dx)\n",
        "\n",
        "    if gradient > 1:\n",
        "        dx, dy = dy, dx\n",
        "        x, y = y, x\n",
        "        x1, y1 = y1, x1\n",
        "        x2, y2 = y2, x2\n",
        "\n",
        "    p = 2 * dy - dx\n",
        "    print('x = %s, y = %s' % (x, y))\n",
        "    # initialize the plotting points\n",
        "    xcoordinates = [x]\n",
        "    ycoordinates = [y]\n",
        "\n",
        "    for k in range(dx):\n",
        "        if p > 0:\n",
        "            y = y + 1 if y < y2 else y - 1\n",
        "            p = p + 2 * (dy - dx)\n",
        "        else:\n",
        "            p = p + 2 * dy\n",
        "\n",
        "        x = x + 1 if x < x2 else x - 1\n",
        "\n",
        "        print('x = %s, y = %s' % (x, y))\n",
        "        xcoordinates.append(x)\n",
        "        ycoordinates.append(y)\n",
        "\n",
        "    plt.plot(xcoordinates, ycoordinates)\n",
        "    plt.show()\n",
        "\n",
        "\n",
        "def main():\n",
        "    x1 = int(input(\"Enter the starting point of x: \"))\n",
        "    y1 = int(input(\"Enter the starting point of y: \"))\n",
        "    x2 = int(input(\"Enter the end point of x: \"))\n",
        "    y2 = int(input(\"Enter the end point of y: \"))\n",
        "\n",
        "    bres(x1, y1, x2, y2)\n",
        "\n",
        "\n",
        "if __name__ == \"__main__\":\n",
        "    main()"
      ],
      "execution_count": null,
      "outputs": [
        {
          "output_type": "stream",
          "name": "stdout",
          "text": [
            "Enter the starting point of x: 20\n",
            "Enter the starting point of y: 20\n",
            "Enter the end point of x: 60\n",
            "Enter the end point of y: 60\n",
            "x = 20, y = 20\n",
            "x = 21, y = 21\n",
            "x = 22, y = 22\n",
            "x = 23, y = 23\n",
            "x = 24, y = 24\n",
            "x = 25, y = 25\n",
            "x = 26, y = 26\n",
            "x = 27, y = 27\n",
            "x = 28, y = 28\n",
            "x = 29, y = 29\n",
            "x = 30, y = 30\n",
            "x = 31, y = 31\n",
            "x = 32, y = 32\n",
            "x = 33, y = 33\n",
            "x = 34, y = 34\n",
            "x = 35, y = 35\n",
            "x = 36, y = 36\n",
            "x = 37, y = 37\n",
            "x = 38, y = 38\n",
            "x = 39, y = 39\n",
            "x = 40, y = 40\n",
            "x = 41, y = 41\n",
            "x = 42, y = 42\n",
            "x = 43, y = 43\n",
            "x = 44, y = 44\n",
            "x = 45, y = 45\n",
            "x = 46, y = 46\n",
            "x = 47, y = 47\n",
            "x = 48, y = 48\n",
            "x = 49, y = 49\n",
            "x = 50, y = 50\n",
            "x = 51, y = 51\n",
            "x = 52, y = 52\n",
            "x = 53, y = 53\n",
            "x = 54, y = 54\n",
            "x = 55, y = 55\n",
            "x = 56, y = 56\n",
            "x = 57, y = 57\n",
            "x = 58, y = 58\n",
            "x = 59, y = 59\n",
            "x = 60, y = 60\n"
          ]
        },
        {
          "output_type": "display_data",
          "data": {
            "image/png": "[encoded data removed]",
            "text/plain": [
              "<Figure size 432x288 with 1 Axes>"
            ]
          },
          "metadata": {
            "needs_background": "light"
          }
        }
      ]
    }
  ]
}
